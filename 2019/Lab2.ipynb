{
 "cells": [
  {
   "cell_type": "code",
   "execution_count": 1,
   "metadata": {},
   "outputs": [],
   "source": [
    "import pandas as pd\n",
    "import numpy as np\n"
   ]
  },
  {
   "cell_type": "code",
   "execution_count": 2,
   "metadata": {},
   "outputs": [],
   "source": [
    "# Load dataset with appropriate encoding\n",
    "file_path = \"2019-personal-property-list.csv\"\n",
    "df = pd.read_csv(file_path, encoding='latin1')\n"
   ]
  },
  {
   "cell_type": "code",
   "execution_count": 3,
   "metadata": {},
   "outputs": [],
   "source": [
    "# Drop unnecessary unnamed columns\n",
    "df = df.loc[:, ~df.columns.str.contains('Unnamed')]"
   ]
  },
  {
   "cell_type": "code",
   "execution_count": 4,
   "metadata": {},
   "outputs": [],
   "source": [
    "# Trim whitespace from column names and replace spaces with underscores\n",
    "df.columns = df.columns.str.strip().str.replace(' ', '_')"
   ]
  },
  {
   "cell_type": "code",
   "execution_count": 5,
   "metadata": {},
   "outputs": [],
   "source": [
    "# Handle missing values: Drop rows where essential columns are missing\n",
    "essential_cols = [\"AGENCY_CODE\", \"STATE_AGENCY\", \"PROPERTY_NAME\", \"VALUE_OR_COST\", \"DATE_ACQUIRED_OR_INSTALLED\"]\n",
    "df.dropna(subset=essential_cols, inplace=True)"
   ]
  },
  {
   "cell_type": "code",
   "execution_count": 6,
   "metadata": {},
   "outputs": [
    {
     "name": "stderr",
     "output_type": "stream",
     "text": [
      "<>:2: SyntaxWarning: invalid escape sequence '\\$'\n",
      "<>:2: SyntaxWarning: invalid escape sequence '\\$'\n",
      "/var/folders/wm/3j20np153f92h_05z976byhh0000gn/T/ipykernel_87520/768682255.py:2: SyntaxWarning: invalid escape sequence '\\$'\n",
      "  df['VALUE_OR_COST'] = df['VALUE_OR_COST'].astype(str).str.strip().replace('[\\$,]', '', regex=True)\n"
     ]
    }
   ],
   "source": [
    "# Clean 'VALUE_OR_COST' column by removing extra spaces and converting to numeric\n",
    "df['VALUE_OR_COST'] = df['VALUE_OR_COST'].astype(str).str.strip().replace('[\\$,]', '', regex=True)\n",
    "df['VALUE_OR_COST'] = pd.to_numeric(df['VALUE_OR_COST'], errors='coerce')"
   ]
  },
  {
   "cell_type": "code",
   "execution_count": 7,
   "metadata": {},
   "outputs": [],
   "source": [
    "# Standardize 'DATE_ACQUIRED_OR_INSTALLED' format\n",
    "df['DATE_ACQUIRED_OR_INSTALLED'] = pd.to_datetime(df['DATE_ACQUIRED_OR_INSTALLED'], errors='coerce')"
   ]
  },
  {
   "cell_type": "code",
   "execution_count": 8,
   "metadata": {},
   "outputs": [],
   "source": [
    "# Remove duplicates\n",
    "df.drop_duplicates(inplace=True)"
   ]
  },
  {
   "cell_type": "code",
   "execution_count": 9,
   "metadata": {},
   "outputs": [],
   "source": [
    "# Drop 'YEAR' column if it exists\n",
    "df.drop(columns=['YEAR', 'COUNT'], errors='ignore', inplace=True)"
   ]
  },
  {
   "cell_type": "code",
   "execution_count": 10,
   "metadata": {},
   "outputs": [],
   "source": [
    "# Normalize text columns\n",
    "df['STATE_AGENCY'] = df['STATE_AGENCY'].str.upper().str.strip()\n",
    "df['PROPERTY_NAME'] = df['PROPERTY_NAME'].str.title().str.strip()"
   ]
  },
  {
   "cell_type": "code",
   "execution_count": 11,
   "metadata": {},
   "outputs": [],
   "source": [
    "# Validate 'IT_OR_NON-IT' column\n",
    "df['IT_OR_NON-IT'] = df['IT_OR_NON-IT'].str.upper().replace({'IT': 'IT', 'NON-IT': 'NON-IT'})\n",
    "df['IT_OR_NON-IT'] = df['IT_OR_NON-IT'].apply(lambda x: x if x in ['IT', 'NON-IT'] else np.nan)"
   ]
  },
  {
   "cell_type": "code",
   "execution_count": 12,
   "metadata": {},
   "outputs": [],
   "source": [
    "# Save the cleaned dataset\n",
    "df.to_csv(\"2019_cleaned_personal_property_list.csv\", index=False)\n"
   ]
  },
  {
   "cell_type": "code",
   "execution_count": 13,
   "metadata": {},
   "outputs": [
    {
     "data": {
      "text/html": [
       "<div>\n",
       "<style scoped>\n",
       "    .dataframe tbody tr th:only-of-type {\n",
       "        vertical-align: middle;\n",
       "    }\n",
       "\n",
       "    .dataframe tbody tr th {\n",
       "        vertical-align: top;\n",
       "    }\n",
       "\n",
       "    .dataframe thead th {\n",
       "        text-align: right;\n",
       "    }\n",
       "</style>\n",
       "<table border=\"1\" class=\"dataframe\">\n",
       "  <thead>\n",
       "    <tr style=\"text-align: right;\">\n",
       "      <th></th>\n",
       "      <th>AGENCY_CODE</th>\n",
       "      <th>STATE_AGENCY</th>\n",
       "      <th>PROPERTY_TYPE</th>\n",
       "      <th>PROPERTY_CLASSIFICATION</th>\n",
       "      <th>PROPERTY_NAME</th>\n",
       "      <th>DATE_ACQUIRED_OR_INSTALLED</th>\n",
       "      <th>VALUE_OR_COST</th>\n",
       "      <th>IT_OR_NON-IT</th>\n",
       "    </tr>\n",
       "  </thead>\n",
       "  <tbody>\n",
       "    <tr>\n",
       "      <th>0</th>\n",
       "      <td>10</td>\n",
       "      <td>OSU-STILLWATER</td>\n",
       "      <td>PERSONAL PROPERTY</td>\n",
       "      <td>OWNED</td>\n",
       "      <td>Data Terminal, Ti (S Cint. Ctr) Mdl 700As</td>\n",
       "      <td>1977-08-15</td>\n",
       "      <td>20600.00</td>\n",
       "      <td>IT</td>\n",
       "    </tr>\n",
       "    <tr>\n",
       "      <th>1</th>\n",
       "      <td>10</td>\n",
       "      <td>OSU-STILLWATER</td>\n",
       "      <td>PERSONAL PROPERTY</td>\n",
       "      <td>OWNED</td>\n",
       "      <td>Computer, Dell Gx620</td>\n",
       "      <td>2005-08-17</td>\n",
       "      <td>1435.04</td>\n",
       "      <td>IT</td>\n",
       "    </tr>\n",
       "    <tr>\n",
       "      <th>2</th>\n",
       "      <td>10</td>\n",
       "      <td>OSU-STILLWATER</td>\n",
       "      <td>PERSONAL PROPERTY</td>\n",
       "      <td>OWNED</td>\n",
       "      <td>Computer, Dell Dimension 5150C</td>\n",
       "      <td>2006-05-25</td>\n",
       "      <td>1337.87</td>\n",
       "      <td>IT</td>\n",
       "    </tr>\n",
       "    <tr>\n",
       "      <th>3</th>\n",
       "      <td>10</td>\n",
       "      <td>OSU-STILLWATER</td>\n",
       "      <td>PERSONAL PROPERTY</td>\n",
       "      <td>OWNED</td>\n",
       "      <td>Dell Intel Pentium 4 Processor 630 W/Ht</td>\n",
       "      <td>2007-05-17</td>\n",
       "      <td>936.16</td>\n",
       "      <td>IT</td>\n",
       "    </tr>\n",
       "    <tr>\n",
       "      <th>4</th>\n",
       "      <td>10</td>\n",
       "      <td>OSU-STILLWATER</td>\n",
       "      <td>PERSONAL PROPERTY</td>\n",
       "      <td>OWNED</td>\n",
       "      <td>Dell Dimension 5150 Pentium D Processor</td>\n",
       "      <td>2006-07-28</td>\n",
       "      <td>1049.84</td>\n",
       "      <td>IT</td>\n",
       "    </tr>\n",
       "  </tbody>\n",
       "</table>\n",
       "</div>"
      ],
      "text/plain": [
       "   AGENCY_CODE    STATE_AGENCY      PROPERTY_TYPE PROPERTY_CLASSIFICATION  \\\n",
       "0           10  OSU-STILLWATER  PERSONAL PROPERTY                   OWNED   \n",
       "1           10  OSU-STILLWATER  PERSONAL PROPERTY                   OWNED   \n",
       "2           10  OSU-STILLWATER  PERSONAL PROPERTY                   OWNED   \n",
       "3           10  OSU-STILLWATER  PERSONAL PROPERTY                   OWNED   \n",
       "4           10  OSU-STILLWATER  PERSONAL PROPERTY                   OWNED   \n",
       "\n",
       "                               PROPERTY_NAME DATE_ACQUIRED_OR_INSTALLED  \\\n",
       "0  Data Terminal, Ti (S Cint. Ctr) Mdl 700As                 1977-08-15   \n",
       "1                       Computer, Dell Gx620                 2005-08-17   \n",
       "2             Computer, Dell Dimension 5150C                 2006-05-25   \n",
       "3    Dell Intel Pentium 4 Processor 630 W/Ht                 2007-05-17   \n",
       "4    Dell Dimension 5150 Pentium D Processor                 2006-07-28   \n",
       "\n",
       "   VALUE_OR_COST IT_OR_NON-IT  \n",
       "0       20600.00           IT  \n",
       "1        1435.04           IT  \n",
       "2        1337.87           IT  \n",
       "3         936.16           IT  \n",
       "4        1049.84           IT  "
      ]
     },
     "execution_count": 13,
     "metadata": {},
     "output_type": "execute_result"
    }
   ],
   "source": [
    "# Display cleaned dataset\n",
    "df.head()\n"
   ]
  }
 ],
 "metadata": {
  "kernelspec": {
   "display_name": "Python 3",
   "language": "python",
   "name": "python3"
  },
  "language_info": {
   "codemirror_mode": {
    "name": "ipython",
    "version": 3
   },
   "file_extension": ".py",
   "mimetype": "text/x-python",
   "name": "python",
   "nbconvert_exporter": "python",
   "pygments_lexer": "ipython3",
   "version": "3.13.0"
  }
 },
 "nbformat": 4,
 "nbformat_minor": 2
}
