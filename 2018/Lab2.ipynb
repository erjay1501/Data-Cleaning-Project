{
 "cells": [
  {
   "cell_type": "code",
   "execution_count": 59,
   "metadata": {},
   "outputs": [],
   "source": [
    "import pandas as pd\n",
    "import numpy as np\n"
   ]
  },
  {
   "cell_type": "code",
   "execution_count": 60,
   "metadata": {},
   "outputs": [
    {
     "name": "stderr",
     "output_type": "stream",
     "text": [
      "/var/folders/wm/3j20np153f92h_05z976byhh0000gn/T/ipykernel_87489/728736243.py:3: DtypeWarning: Columns (3,6) have mixed types. Specify dtype option on import or set low_memory=False.\n",
      "  df = pd.read_csv(file_path, encoding='latin1')\n"
     ]
    }
   ],
   "source": [
    "# Load dataset with appropriate encoding\n",
    "file_path = \"2018-personal-property-list.csv\"\n",
    "df = pd.read_csv(file_path, encoding='latin1')\n",
    "\n"
   ]
  },
  {
   "cell_type": "code",
   "execution_count": 61,
   "metadata": {},
   "outputs": [],
   "source": [
    "# Drop unnecessary unnamed columns\n",
    "df = df.loc[:, ~df.columns.str.contains('Unnamed')]"
   ]
  },
  {
   "cell_type": "code",
   "execution_count": 62,
   "metadata": {},
   "outputs": [
    {
     "data": {
      "text/html": [
       "<div>\n",
       "<style scoped>\n",
       "    .dataframe tbody tr th:only-of-type {\n",
       "        vertical-align: middle;\n",
       "    }\n",
       "\n",
       "    .dataframe tbody tr th {\n",
       "        vertical-align: top;\n",
       "    }\n",
       "\n",
       "    .dataframe thead th {\n",
       "        text-align: right;\n",
       "    }\n",
       "</style>\n",
       "<table border=\"1\" class=\"dataframe\">\n",
       "  <thead>\n",
       "    <tr style=\"text-align: right;\">\n",
       "      <th></th>\n",
       "      <th>AGENCY_CODE</th>\n",
       "      <th>STATE_AGENCY</th>\n",
       "      <th>PROPERTY_TYPE</th>\n",
       "      <th>PROPERTY_CLASSIFICATION</th>\n",
       "      <th>PROPERTY_NAME</th>\n",
       "      <th>DATE_ACQUIRED_OR_INSTALLED</th>\n",
       "      <th>VALUE_OR_COST</th>\n",
       "      <th>IT_OR_NON-IT</th>\n",
       "    </tr>\n",
       "  </thead>\n",
       "  <tbody>\n",
       "    <tr>\n",
       "      <th>0</th>\n",
       "      <td>10.0</td>\n",
       "      <td>OSU-STILLWATER</td>\n",
       "      <td>Personal Property</td>\n",
       "      <td>Owned</td>\n",
       "      <td>Data Terminal, Ti (S Cint. Ctr) Mdl 700as</td>\n",
       "      <td>08/15/77</td>\n",
       "      <td>20600.0</td>\n",
       "      <td>IT</td>\n",
       "    </tr>\n",
       "    <tr>\n",
       "      <th>1</th>\n",
       "      <td>10.0</td>\n",
       "      <td>OSU-STILLWATER</td>\n",
       "      <td>Personal Property</td>\n",
       "      <td>Owned</td>\n",
       "      <td>Hp Graphics Translat Or</td>\n",
       "      <td>08/07/81</td>\n",
       "      <td>9328.93</td>\n",
       "      <td>IT</td>\n",
       "    </tr>\n",
       "    <tr>\n",
       "      <th>2</th>\n",
       "      <td>10.0</td>\n",
       "      <td>OSU-STILLWATER</td>\n",
       "      <td>Personal Property</td>\n",
       "      <td>Owned</td>\n",
       "      <td>Single Channel Ekg Printer/Recorder</td>\n",
       "      <td>05/26/82</td>\n",
       "      <td>5625.0</td>\n",
       "      <td>IT</td>\n",
       "    </tr>\n",
       "    <tr>\n",
       "      <th>3</th>\n",
       "      <td>10.0</td>\n",
       "      <td>OSU-STILLWATER</td>\n",
       "      <td>Personal Property</td>\n",
       "      <td>Owned</td>\n",
       "      <td>4643596 Typewriter S Electric Iii</td>\n",
       "      <td>12/15/82</td>\n",
       "      <td>913.8</td>\n",
       "      <td>IT</td>\n",
       "    </tr>\n",
       "    <tr>\n",
       "      <th>4</th>\n",
       "      <td>10.0</td>\n",
       "      <td>OSU-STILLWATER</td>\n",
       "      <td>Personal Property</td>\n",
       "      <td>Owned</td>\n",
       "      <td>Software Composition Of Tatex From 83-96</td>\n",
       "      <td>09/12/83</td>\n",
       "      <td>97880.55</td>\n",
       "      <td>IT</td>\n",
       "    </tr>\n",
       "    <tr>\n",
       "      <th>...</th>\n",
       "      <td>...</td>\n",
       "      <td>...</td>\n",
       "      <td>...</td>\n",
       "      <td>...</td>\n",
       "      <td>...</td>\n",
       "      <td>...</td>\n",
       "      <td>...</td>\n",
       "      <td>...</td>\n",
       "    </tr>\n",
       "    <tr>\n",
       "      <th>234601</th>\n",
       "      <td>NaN</td>\n",
       "      <td>NaN</td>\n",
       "      <td>NaN</td>\n",
       "      <td>NaN</td>\n",
       "      <td>NaN</td>\n",
       "      <td>NaN</td>\n",
       "      <td>NaN</td>\n",
       "      <td>NaN</td>\n",
       "    </tr>\n",
       "    <tr>\n",
       "      <th>234602</th>\n",
       "      <td>NaN</td>\n",
       "      <td>NaN</td>\n",
       "      <td>NaN</td>\n",
       "      <td>NaN</td>\n",
       "      <td>NaN</td>\n",
       "      <td>NaN</td>\n",
       "      <td>NaN</td>\n",
       "      <td>NaN</td>\n",
       "    </tr>\n",
       "    <tr>\n",
       "      <th>234603</th>\n",
       "      <td>NaN</td>\n",
       "      <td>NaN</td>\n",
       "      <td>NaN</td>\n",
       "      <td>NaN</td>\n",
       "      <td>NaN</td>\n",
       "      <td>NaN</td>\n",
       "      <td>NaN</td>\n",
       "      <td>NaN</td>\n",
       "    </tr>\n",
       "    <tr>\n",
       "      <th>234604</th>\n",
       "      <td>NaN</td>\n",
       "      <td>NaN</td>\n",
       "      <td>NaN</td>\n",
       "      <td>NaN</td>\n",
       "      <td>NaN</td>\n",
       "      <td>NaN</td>\n",
       "      <td>NaN</td>\n",
       "      <td>NaN</td>\n",
       "    </tr>\n",
       "    <tr>\n",
       "      <th>234605</th>\n",
       "      <td>NaN</td>\n",
       "      <td>NaN</td>\n",
       "      <td>NaN</td>\n",
       "      <td>NaN</td>\n",
       "      <td>NaN</td>\n",
       "      <td>NaN</td>\n",
       "      <td>NaN</td>\n",
       "      <td>NaN</td>\n",
       "    </tr>\n",
       "  </tbody>\n",
       "</table>\n",
       "<p>234606 rows × 8 columns</p>\n",
       "</div>"
      ],
      "text/plain": [
       "        AGENCY_CODE    STATE_AGENCY      PROPERTY_TYPE  \\\n",
       "0              10.0  OSU-STILLWATER  Personal Property   \n",
       "1              10.0  OSU-STILLWATER  Personal Property   \n",
       "2              10.0  OSU-STILLWATER  Personal Property   \n",
       "3              10.0  OSU-STILLWATER  Personal Property   \n",
       "4              10.0  OSU-STILLWATER  Personal Property   \n",
       "...             ...             ...                ...   \n",
       "234601          NaN             NaN                NaN   \n",
       "234602          NaN             NaN                NaN   \n",
       "234603          NaN             NaN                NaN   \n",
       "234604          NaN             NaN                NaN   \n",
       "234605          NaN             NaN                NaN   \n",
       "\n",
       "       PROPERTY_CLASSIFICATION                              PROPERTY_NAME  \\\n",
       "0                        Owned  Data Terminal, Ti (S Cint. Ctr) Mdl 700as   \n",
       "1                        Owned                    Hp Graphics Translat Or   \n",
       "2                        Owned        Single Channel Ekg Printer/Recorder   \n",
       "3                        Owned          4643596 Typewriter S Electric Iii   \n",
       "4                        Owned   Software Composition Of Tatex From 83-96   \n",
       "...                        ...                                        ...   \n",
       "234601                     NaN                                        NaN   \n",
       "234602                     NaN                                        NaN   \n",
       "234603                     NaN                                        NaN   \n",
       "234604                     NaN                                        NaN   \n",
       "234605                     NaN                                        NaN   \n",
       "\n",
       "       DATE_ACQUIRED_OR_INSTALLED VALUE_OR_COST IT_OR_NON-IT  \n",
       "0                        08/15/77       20600.0           IT  \n",
       "1                        08/07/81       9328.93           IT  \n",
       "2                        05/26/82        5625.0           IT  \n",
       "3                        12/15/82         913.8           IT  \n",
       "4                        09/12/83      97880.55           IT  \n",
       "...                           ...           ...          ...  \n",
       "234601                        NaN           NaN          NaN  \n",
       "234602                        NaN           NaN          NaN  \n",
       "234603                        NaN           NaN          NaN  \n",
       "234604                        NaN           NaN          NaN  \n",
       "234605                        NaN           NaN          NaN  \n",
       "\n",
       "[234606 rows x 8 columns]"
      ]
     },
     "execution_count": 62,
     "metadata": {},
     "output_type": "execute_result"
    }
   ],
   "source": [
    "# Trim whitespace from column names, replace spaces with underscores, and convert to upper case\n",
    "df.columns = df.columns.str.strip().str.replace(' ', '_').str.upper().str.replace('/', '_OR_')\n",
    "df"
   ]
  },
  {
   "cell_type": "code",
   "execution_count": 63,
   "metadata": {},
   "outputs": [],
   "source": [
    "# Handle missing values: Drop rows where essential columns are missing\n",
    "essential_cols = [\"AGENCY_CODE\", \"STATE_AGENCY\", \"PROPERTY_NAME\", \"VALUE_OR_COST\", \"DATE_ACQUIRED_OR_INSTALLED\"]\n",
    "df.dropna(subset=essential_cols, inplace=True)"
   ]
  },
  {
   "cell_type": "code",
   "execution_count": 64,
   "metadata": {},
   "outputs": [
    {
     "name": "stderr",
     "output_type": "stream",
     "text": [
      "<>:2: SyntaxWarning: invalid escape sequence '\\$'\n",
      "<>:2: SyntaxWarning: invalid escape sequence '\\$'\n",
      "/var/folders/wm/3j20np153f92h_05z976byhh0000gn/T/ipykernel_87489/768682255.py:2: SyntaxWarning: invalid escape sequence '\\$'\n",
      "  df['VALUE_OR_COST'] = df['VALUE_OR_COST'].astype(str).str.strip().replace('[\\$,]', '', regex=True)\n"
     ]
    }
   ],
   "source": [
    "# Clean 'VALUE_OR_COST' column by removing extra spaces and converting to numeric\n",
    "df['VALUE_OR_COST'] = df['VALUE_OR_COST'].astype(str).str.strip().replace('[\\$,]', '', regex=True)\n",
    "df['VALUE_OR_COST'] = pd.to_numeric(df['VALUE_OR_COST'], errors='coerce')"
   ]
  },
  {
   "cell_type": "code",
   "execution_count": 65,
   "metadata": {},
   "outputs": [
    {
     "name": "stderr",
     "output_type": "stream",
     "text": [
      "/var/folders/wm/3j20np153f92h_05z976byhh0000gn/T/ipykernel_87489/671247462.py:2: UserWarning: Could not infer format, so each element will be parsed individually, falling back to `dateutil`. To ensure parsing is consistent and as-expected, please specify a format.\n",
      "  df['DATE_ACQUIRED_OR_INSTALLED'] = pd.to_datetime(df['DATE_ACQUIRED_OR_INSTALLED'], errors='coerce')\n"
     ]
    }
   ],
   "source": [
    "# Standardize 'DATE_ACQUIRED_OR_INSTALLED' format\n",
    "df['DATE_ACQUIRED_OR_INSTALLED'] = pd.to_datetime(df['DATE_ACQUIRED_OR_INSTALLED'], errors='coerce')"
   ]
  },
  {
   "cell_type": "code",
   "execution_count": 66,
   "metadata": {},
   "outputs": [],
   "source": [
    "# Remove duplicates\n",
    "df.drop_duplicates(inplace=True)"
   ]
  },
  {
   "cell_type": "code",
   "execution_count": 67,
   "metadata": {},
   "outputs": [],
   "source": [
    "# Drop 'YEAR' column if it exists\n",
    "df.drop(columns=['YEAR', 'COUNT'], errors='ignore', inplace=True)"
   ]
  },
  {
   "cell_type": "code",
   "execution_count": 68,
   "metadata": {},
   "outputs": [],
   "source": [
    "# Normalize text columns\n",
    "df['STATE_AGENCY'] = df['STATE_AGENCY'].str.upper().str.strip()\n",
    "df['PROPERTY_NAME'] = df['PROPERTY_NAME'].str.title().str.strip()"
   ]
  },
  {
   "cell_type": "code",
   "execution_count": 69,
   "metadata": {},
   "outputs": [],
   "source": [
    "# Validate 'IT_OR_NON-IT' column\n",
    "df['IT_OR_NON-IT'] = df['IT_OR_NON-IT'].str.upper().replace({'IT': 'IT', 'NON-IT': 'NON-IT'})\n",
    "df['IT_OR_NON-IT'] = df['IT_OR_NON-IT'].apply(lambda x: x if x in ['IT', 'NON-IT'] else np.nan)"
   ]
  },
  {
   "cell_type": "code",
   "execution_count": 70,
   "metadata": {},
   "outputs": [],
   "source": [
    "# Save the cleaned dataset\n",
    "df.to_csv(\"2018_cleaned_personal_property_list.csv\", index=False)\n"
   ]
  },
  {
   "cell_type": "code",
   "execution_count": 71,
   "metadata": {},
   "outputs": [
    {
     "data": {
      "text/html": [
       "<div>\n",
       "<style scoped>\n",
       "    .dataframe tbody tr th:only-of-type {\n",
       "        vertical-align: middle;\n",
       "    }\n",
       "\n",
       "    .dataframe tbody tr th {\n",
       "        vertical-align: top;\n",
       "    }\n",
       "\n",
       "    .dataframe thead th {\n",
       "        text-align: right;\n",
       "    }\n",
       "</style>\n",
       "<table border=\"1\" class=\"dataframe\">\n",
       "  <thead>\n",
       "    <tr style=\"text-align: right;\">\n",
       "      <th></th>\n",
       "      <th>AGENCY_CODE</th>\n",
       "      <th>STATE_AGENCY</th>\n",
       "      <th>PROPERTY_TYPE</th>\n",
       "      <th>PROPERTY_CLASSIFICATION</th>\n",
       "      <th>PROPERTY_NAME</th>\n",
       "      <th>DATE_ACQUIRED_OR_INSTALLED</th>\n",
       "      <th>VALUE_OR_COST</th>\n",
       "      <th>IT_OR_NON-IT</th>\n",
       "    </tr>\n",
       "  </thead>\n",
       "  <tbody>\n",
       "    <tr>\n",
       "      <th>0</th>\n",
       "      <td>10.0</td>\n",
       "      <td>OSU-STILLWATER</td>\n",
       "      <td>Personal Property</td>\n",
       "      <td>Owned</td>\n",
       "      <td>Data Terminal, Ti (S Cint. Ctr) Mdl 700As</td>\n",
       "      <td>1977-08-15</td>\n",
       "      <td>20600.00</td>\n",
       "      <td>IT</td>\n",
       "    </tr>\n",
       "    <tr>\n",
       "      <th>1</th>\n",
       "      <td>10.0</td>\n",
       "      <td>OSU-STILLWATER</td>\n",
       "      <td>Personal Property</td>\n",
       "      <td>Owned</td>\n",
       "      <td>Hp Graphics Translat Or</td>\n",
       "      <td>1981-08-07</td>\n",
       "      <td>9328.93</td>\n",
       "      <td>IT</td>\n",
       "    </tr>\n",
       "    <tr>\n",
       "      <th>2</th>\n",
       "      <td>10.0</td>\n",
       "      <td>OSU-STILLWATER</td>\n",
       "      <td>Personal Property</td>\n",
       "      <td>Owned</td>\n",
       "      <td>Single Channel Ekg Printer/Recorder</td>\n",
       "      <td>1982-05-26</td>\n",
       "      <td>5625.00</td>\n",
       "      <td>IT</td>\n",
       "    </tr>\n",
       "    <tr>\n",
       "      <th>3</th>\n",
       "      <td>10.0</td>\n",
       "      <td>OSU-STILLWATER</td>\n",
       "      <td>Personal Property</td>\n",
       "      <td>Owned</td>\n",
       "      <td>4643596 Typewriter S Electric Iii</td>\n",
       "      <td>1982-12-15</td>\n",
       "      <td>913.80</td>\n",
       "      <td>IT</td>\n",
       "    </tr>\n",
       "    <tr>\n",
       "      <th>4</th>\n",
       "      <td>10.0</td>\n",
       "      <td>OSU-STILLWATER</td>\n",
       "      <td>Personal Property</td>\n",
       "      <td>Owned</td>\n",
       "      <td>Software Composition Of Tatex From 83-96</td>\n",
       "      <td>1983-09-12</td>\n",
       "      <td>97880.55</td>\n",
       "      <td>IT</td>\n",
       "    </tr>\n",
       "  </tbody>\n",
       "</table>\n",
       "</div>"
      ],
      "text/plain": [
       "   AGENCY_CODE    STATE_AGENCY      PROPERTY_TYPE PROPERTY_CLASSIFICATION  \\\n",
       "0         10.0  OSU-STILLWATER  Personal Property                   Owned   \n",
       "1         10.0  OSU-STILLWATER  Personal Property                   Owned   \n",
       "2         10.0  OSU-STILLWATER  Personal Property                   Owned   \n",
       "3         10.0  OSU-STILLWATER  Personal Property                   Owned   \n",
       "4         10.0  OSU-STILLWATER  Personal Property                   Owned   \n",
       "\n",
       "                               PROPERTY_NAME DATE_ACQUIRED_OR_INSTALLED  \\\n",
       "0  Data Terminal, Ti (S Cint. Ctr) Mdl 700As                 1977-08-15   \n",
       "1                    Hp Graphics Translat Or                 1981-08-07   \n",
       "2        Single Channel Ekg Printer/Recorder                 1982-05-26   \n",
       "3          4643596 Typewriter S Electric Iii                 1982-12-15   \n",
       "4   Software Composition Of Tatex From 83-96                 1983-09-12   \n",
       "\n",
       "   VALUE_OR_COST IT_OR_NON-IT  \n",
       "0       20600.00           IT  \n",
       "1        9328.93           IT  \n",
       "2        5625.00           IT  \n",
       "3         913.80           IT  \n",
       "4       97880.55           IT  "
      ]
     },
     "execution_count": 71,
     "metadata": {},
     "output_type": "execute_result"
    }
   ],
   "source": [
    "# Display cleaned dataset\n",
    "df.head()\n"
   ]
  }
 ],
 "metadata": {
  "kernelspec": {
   "display_name": "Python 3",
   "language": "python",
   "name": "python3"
  },
  "language_info": {
   "codemirror_mode": {
    "name": "ipython",
    "version": 3
   },
   "file_extension": ".py",
   "mimetype": "text/x-python",
   "name": "python",
   "nbconvert_exporter": "python",
   "pygments_lexer": "ipython3",
   "version": "3.13.0"
  }
 },
 "nbformat": 4,
 "nbformat_minor": 2
}
